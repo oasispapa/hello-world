{
  "nbformat": 4,
  "nbformat_minor": 0,
  "metadata": {
    "colab": {
      "name": "Chapter13.ipynb",
      "version": "0.3.2",
      "provenance": [],
      "collapsed_sections": [],
      "include_colab_link": true
    },
    "kernelspec": {
      "name": "python3",
      "display_name": "Python 3"
    },
    "accelerator": "GPU"
  },
  "cells": [
    {
      "cell_type": "markdown",
      "metadata": {
        "id": "view-in-github",
        "colab_type": "text"
      },
      "source": [
        "[View in Colaboratory](https://colab.research.google.com/github/oasispapa/hello-world/blob/master/Chapter13.ipynb)"
      ]
    },
    {
      "metadata": {
        "id": "iR2v869YMCVi",
        "colab_type": "text"
      },
      "cell_type": "markdown",
      "source": [
        "# Chapter 13. 연산자 오버로딩: 제대로 하기\n",
        "\n",
        "1. 배경 및 개념\n",
        " * 연산자란? \n",
        "  >- 수학연산과 유사한 연산자의 집합. <BR>\n",
        "  > 예) 산술연산(+-), 비교연산(>=), 논리연산(T/F), 비트연산(and or xor..), 복합할당연산 (+=), 멤버와 포인트 연산(*) 등이 있고 서로간 우선순위가 있음. \n",
        "   \n",
        " * 오버로드란?\n",
        "   >- **함수 오버로드** : 같은 함수 이름을 가지고 있으나 매개변수 타입이나 개수, 리턴타입등을 달리 구현하여 여러개의 서브프로그램을 생성하는 기법. <BR>\n",
        "   예) doTask() , doTask(object O)   \n",
        "   >- **연산자 오버로드** : 객체 지향 프로그래밍에서 다형성의 특정 경우로 다른 연산자들이 함수 인자를 통해 구현 할 때를 말한다. 연산자 오버로딩은 일반적으로 언어, 프로그래머, 또는 두 가지 모두에 의해 정의된다. (위키백과). (한마디로 +가 숫자더할때나 문자더할때 쓰일 수 있는 것은 연산자 오버로드를 했기 때문임.)\n",
        "\n",
        "2. 주의점(?) & 파이썬에서 연산자 오버로드란?\n",
        " * 연산자 오버로딩을 혐오하는 사람이 많다. <BR>\n",
        " -> 왜? 남용, 혼란, 버그, 병목발생.. 신경쓸게 많다. <BR>예) +연산에서  교환법칙이 수에서는 성립하지만, 문자열에서는 불가하다.   \n",
        " * 1960년대 ALGOL 68 연산자 오버로딩 허용. <BR>\n",
        "   1980년대 에이다 연산자 오버로딩 지원. (새로운 연산자 정의 허용  안 함) <BR>\n",
        "   1990년대 자바는 연산자 오버로딩 불포함<BR>\n",
        "   2001년 c#은 연산자 오버로딩 포함. <BR>\n",
        " * 그래서 **파이썬**에서는 아래와 같은 제한을 둔다. \n",
        " >- 내장 자료형(리스트, 튜플, 딕셔너리)에 대한 연산자는 오버로딩할 수 없다. \n",
        " >- is, and, or, not 연산자는 오버로딩할 수 없다. \n",
        " >- 새로운 연산자를 생성할 수 없으며, 기존 연산자를 오버로딩만 할 수 있다. \n",
        " * 최근 과학 계산 분야에 파이썬이 널리 보급된 이유는 사용하기 쉬운 고수준 언어로 연산자를 오버로딩하기 때문일 것이다.\n",
        " * 반면, 성능과 안전이 가장 중요한 저수준 시스템 언어에서는 연산자 오버로딩을 허용하지 않는 것이 타당하다. \n",
        "    \n",
        "2. 연산자 종류\n",
        " * 단항 연산자 : \n",
        " >- **-(__neg__) 단항 산술 부정** : x가 -2면, -x는 2\n",
        " >- **+(__pos__) 단항 산술 덧셈** : 일반적으로 x와 +x는 동일하지만 아닌경우 있음. \n",
        " >- **~(__invert__) 비트 반전** : ~x는 -(x+1). x가 2면 ~x는 -3.  (이와같은 정수형 외에서는 부정한 결과를 반환. SQL 에서 사용한다면 WHERE 구를 부정한 결과를 리턴)\n",
        " * 중위 연산자 :  \n",
        "  >- 앞서 본 예제 Vector 클래스 안에서 연산자 오버로딩을 통해 중위 연산자 메서드를 살펴본다.\n",
        " >- 중위 연산자 메서드 <br>\n",
        "     예)  +  -  *  /  //  %  divmod()  **  @  &  |  ^  <<  >> \n",
        " >- 비교 연산자 <br>\n",
        "     예) >  <  >=  <=  ==  !=\n",
        " >- 복합 할당 연산자 <br>\n",
        "     예) +=  *=\n",
        " * 기타 연산자 : 함수호출 '()', 속성접근 '.', 항목접근/슬라이싱 '[]' -> 파이썬에서는 연산자로 구현되어있지만 이 장에서는 다루지 않음. \n",
        " \n"
      ]
    },
    {
      "metadata": {
        "id": "avjk-4-FNSsv",
        "colab_type": "text"
      },
      "cell_type": "markdown",
      "source": [
        "# 단항 연산자\n",
        "구현하기 쉽다. <br>\n",
        "단지 self 인수 하나를 받는 적절한 특별 메서드를 구현하면 된다. <br>\n",
        "다만 **언제나 새로운 객체를 반환**해야한다는 연산자 핵심규칙을 지켜야한다. <br>\n"
      ]
    },
    {
      "metadata": {
        "id": "My2dc_bbMTxp",
        "colab_type": "code",
        "colab": {}
      },
      "cell_type": "code",
      "source": [
        "# 예제 10-16에서 이미 구현해봤던 클래스\n",
        "from array import array\n",
        "import reprlib\n",
        "import math\n",
        "import numbers\n",
        "import functools\n",
        "import operator\n",
        "import itertools  # <1>\n",
        "\n",
        "\n",
        "class Vector:\n",
        "    typecode = 'd'\n",
        "\n",
        "    def __init__(self, components):\n",
        "        self._components = array(self.typecode, components)\n",
        "\n",
        "    def __iter__(self):\n",
        "        return iter(self._components)\n",
        "\n",
        "    def __repr__(self):\n",
        "        components = reprlib.repr(self._components)\n",
        "        components = components[components.find('['):-1]\n",
        "        return 'Vector({})'.format(components)\n",
        "\n",
        "    def __str__(self):\n",
        "        return str(tuple(self))\n",
        "\n",
        "    def __bytes__(self):\n",
        "        return (bytes([ord(self.typecode)]) +\n",
        "                bytes(self._components))\n",
        "\n",
        "    def __eq__(self, other):\n",
        "        return (len(self) == len(other) and\n",
        "                all(a == b for a, b in zip(self, other)))\n",
        "\n",
        "    def __hash__(self):\n",
        "        hashes = (hash(x) for x in self)\n",
        "        return functools.reduce(operator.xor, hashes, 0)\n",
        "\n",
        "    def __abs__(self):\n",
        "        return math.sqrt(sum(x * x for x in self))\n",
        "\n",
        "    def __bool__(self):\n",
        "        return bool(abs(self))\n",
        "\n",
        "    def __len__(self):\n",
        "        return len(self._components)\n",
        "\n",
        "    def __getitem__(self, index):\n",
        "        cls = type(self)\n",
        "        if isinstance(index, slice):\n",
        "            return cls(self._components[index])\n",
        "        elif isinstance(index, numbers.Integral):\n",
        "            return self._components[index]\n",
        "        else:\n",
        "            msg = '{.__name__} indices must be integers'\n",
        "            raise TypeError(msg.format(cls))\n",
        "\n",
        "    shortcut_names = 'xyzt'\n",
        "\n",
        "    def __getattr__(self, name):\n",
        "        cls = type(self)\n",
        "        if len(name) == 1:\n",
        "            pos = cls.shortcut_names.find(name)\n",
        "            if 0 <= pos < len(self._components):\n",
        "                return self._components[pos]\n",
        "        msg = '{.__name__!r} object has no attribute {!r}'\n",
        "        raise AttributeError(msg.format(cls, name))\n",
        "\n",
        "    def angle(self, n):  # <2>\n",
        "        r = math.sqrt(sum(x * x for x in self[n:]))\n",
        "        a = math.atan2(r, self[n-1])\n",
        "        if (n == len(self) - 1) and (self[-1] < 0):\n",
        "            return math.pi * 2 - a\n",
        "        else:\n",
        "            return a\n",
        "\n",
        "    def angles(self):  # <3>\n",
        "        return (self.angle(n) for n in range(1, len(self)))\n",
        "\n",
        "    def __format__(self, fmt_spec=''):\n",
        "        if fmt_spec.endswith('h'):  # hyperspherical coordinates\n",
        "            fmt_spec = fmt_spec[:-1]\n",
        "            coords = itertools.chain([abs(self)],\n",
        "                                     self.angles())  # <4>\n",
        "            outer_fmt = '<{}>'  # <5>\n",
        "        else:\n",
        "            coords = self\n",
        "            outer_fmt = '({})'  # <6>\n",
        "        components = (format(c, fmt_spec) for c in coords)  # <7>\n",
        "        return outer_fmt.format(', '.join(components))  # <8>\n",
        "\n",
        "    @classmethod\n",
        "    def frombytes(cls, octets):\n",
        "        typecode = chr(octets[0])\n",
        "        memv = memoryview(octets[1:]).cast(typecode)\n",
        "        return cls(memv)\n",
        "    \n",
        "    \n",
        "    # 이번 장에서 추가한 코드 \n",
        "    # 단항 연산자\n",
        "    def __neg__(self):\n",
        "        return Vector(-x for x in self)\n",
        "\n",
        "    def __pos__(self):\n",
        "        return Vector(self)\n",
        "    \n",
        "    \n",
        "    # 중위 연산자    \n",
        "    def __add__(self, other):\n",
        "        try:\n",
        "            pairs = itertools.zip_longest(self, other, fillvalue=0.0)\n",
        "            return Vector(a + b for a, b in pairs) \n",
        "        except TypeError:\n",
        "            return NotImplemented\n",
        "            # return TypeError\n",
        "    \n",
        "    def __radd__(self, other):\n",
        "        return self + other\n",
        "            \n",
        "    \n",
        "    def __mul__(self, scalar):\n",
        "        if isinstance(scalar, numbers.Real):\n",
        "            return Vector(n * scalar for n in self)\n",
        "        else:\n",
        "            return NotImplemented\n",
        "    \n",
        "    def __rmul__(self, scalar):\n",
        "        return self * scalar\n",
        "    \n",
        "    def __matmul__(self, other):\n",
        "        try:\n",
        "            return sum(a * b for a, b in zip(self, other))\n",
        "        except TypeError:\n",
        "            return NotImplemented\n",
        "        \n",
        "    def __rmatmul__(self, other):\n",
        "        return self @ other\n",
        "    \n",
        "    def __eq__(self, other):\n",
        "        #if isinstance(other, Vector):\n",
        "        return (len(self) == len(other) and all(a == b for a, b in zip(self, other)))\n",
        "        #else:\n",
        "        #    return NotImplemented"
      ],
      "execution_count": 0,
      "outputs": []
    },
    {
      "metadata": {
        "id": "PrCHp9LAkMY4",
        "colab_type": "code",
        "colab": {
          "base_uri": "https://localhost:8080/",
          "height": 52
        },
        "outputId": "4ae38c1f-7c00-491f-97ea-059da36bd05c"
      },
      "cell_type": "code",
      "source": [
        "v = Vector([1, 2, 3])\n",
        "# 단항 산술 부정\n",
        "print (-v)\n",
        "# 단항 산술 덧셈\n",
        "print (+v)"
      ],
      "execution_count": 26,
      "outputs": [
        {
          "output_type": "stream",
          "text": [
            "(-1.0, -2.0, -3.0)\n",
            "(1.0, 2.0, 3.0)\n"
          ],
          "name": "stdout"
        }
      ]
    },
    {
      "metadata": {
        "id": "oHkwAzsZpACX",
        "colab_type": "text"
      },
      "cell_type": "markdown",
      "source": [
        "**x와 +x 가 동일하지 않은 경우 <br>**\n",
        "사실 파이썬에서는 거의 항상 똑같다. <br>\n",
        "표준 라이브러리 안에서 x와 +x가 다른 두 가지  사례 (x != +x)"
      ]
    },
    {
      "metadata": {
        "id": "-bFmt8CnqCFf",
        "colab_type": "code",
        "colab": {
          "base_uri": "https://localhost:8080/",
          "height": 34
        },
        "outputId": "73118d65-cd1f-4e26-8044-00ba71e46044"
      },
      "cell_type": "code",
      "source": [
        "# 사례 1 : decimal.Decimal\n",
        "import decimal\n",
        "ctx = decimal.getcontext()\n",
        "# print (type (ctx))\n",
        "ctx.prec = 10\n",
        "one_third = decimal.Decimal('1') / decimal.Decimal('3')\n",
        "print (one_third)"
      ],
      "execution_count": 27,
      "outputs": [
        {
          "output_type": "stream",
          "text": [
            "0.3333333333\n"
          ],
          "name": "stdout"
        }
      ]
    },
    {
      "metadata": {
        "id": "vkksDxK-qp7F",
        "colab_type": "code",
        "colab": {
          "base_uri": "https://localhost:8080/",
          "height": 34
        },
        "outputId": "bf9e07ec-1fe5-42c8-978b-b4d6c1155b50"
      },
      "cell_type": "code",
      "source": [
        "one_third == +one_third"
      ],
      "execution_count": 28,
      "outputs": [
        {
          "output_type": "execute_result",
          "data": {
            "text/plain": [
              "True"
            ]
          },
          "metadata": {
            "tags": []
          },
          "execution_count": 28
        }
      ]
    },
    {
      "metadata": {
        "id": "sTz6eQC4qwnX",
        "colab_type": "code",
        "colab": {
          "base_uri": "https://localhost:8080/",
          "height": 34
        },
        "outputId": "e5000d4e-8336-4526-c393-24c817a2c966"
      },
      "cell_type": "code",
      "source": [
        "ctx.prec = 3\n",
        "one_third == +one_third"
      ],
      "execution_count": 29,
      "outputs": [
        {
          "output_type": "execute_result",
          "data": {
            "text/plain": [
              "False"
            ]
          },
          "metadata": {
            "tags": []
          },
          "execution_count": 29
        }
      ]
    },
    {
      "metadata": {
        "id": "yPYHMzhGq29P",
        "colab_type": "code",
        "colab": {
          "base_uri": "https://localhost:8080/",
          "height": 34
        },
        "outputId": "c48c2ad6-e270-4677-bb41-e6c6c39d3ea6"
      },
      "cell_type": "code",
      "source": [
        "+one_third"
      ],
      "execution_count": 30,
      "outputs": [
        {
          "output_type": "execute_result",
          "data": {
            "text/plain": [
              "Decimal('0.333')"
            ]
          },
          "metadata": {
            "tags": []
          },
          "execution_count": 30
        }
      ]
    },
    {
      "metadata": {
        "id": "RW0qxrR4q5hm",
        "colab_type": "code",
        "colab": {
          "base_uri": "https://localhost:8080/",
          "height": 35
        },
        "outputId": "74a16949-66c7-4607-ead4-d97b5b994a92"
      },
      "cell_type": "code",
      "source": [
        "one_third"
      ],
      "execution_count": 40,
      "outputs": [
        {
          "output_type": "execute_result",
          "data": {
            "text/plain": [
              "Decimal('0.3333333333')"
            ]
          },
          "metadata": {
            "tags": []
          },
          "execution_count": 40
        }
      ]
    },
    {
      "metadata": {
        "id": "EsmPWfA1rFfj",
        "colab_type": "text"
      },
      "cell_type": "markdown",
      "source": [
        "=> +one_third 표현식이 **나타낼때마다** one_third 의 값을 이용해서 Decimal 객체를 새로 만드는데, 이때 현재의 산술 콘텍스트를 사용한다. "
      ]
    },
    {
      "metadata": {
        "id": "lW90JaXJseKz",
        "colab_type": "code",
        "colab": {
          "base_uri": "https://localhost:8080/",
          "height": 34
        },
        "outputId": "c152fd8d-342a-43ef-c811-904679e0bd36"
      },
      "cell_type": "code",
      "source": [
        "# 사례 2 : collections.Counter\n",
        "from collections import Counter\n",
        "ct = Counter('abracadabra')\n",
        "ct\n"
      ],
      "execution_count": 32,
      "outputs": [
        {
          "output_type": "execute_result",
          "data": {
            "text/plain": [
              "Counter({'a': 5, 'b': 2, 'c': 1, 'd': 1, 'r': 2})"
            ]
          },
          "metadata": {
            "tags": []
          },
          "execution_count": 32
        }
      ]
    },
    {
      "metadata": {
        "id": "_r3tjAiPvIjw",
        "colab_type": "code",
        "colab": {
          "base_uri": "https://localhost:8080/",
          "height": 34
        },
        "outputId": "9065a853-c5f4-4e72-bb60-7da50d975c76"
      },
      "cell_type": "code",
      "source": [
        "ct['r'] = -3\n",
        "ct['d'] = 0\n",
        "ct"
      ],
      "execution_count": 33,
      "outputs": [
        {
          "output_type": "execute_result",
          "data": {
            "text/plain": [
              "Counter({'a': 5, 'b': 2, 'c': 1, 'd': 0, 'r': -3})"
            ]
          },
          "metadata": {
            "tags": []
          },
          "execution_count": 33
        }
      ]
    },
    {
      "metadata": {
        "id": "gT3ArPeHvSBa",
        "colab_type": "code",
        "colab": {
          "base_uri": "https://localhost:8080/",
          "height": 35
        },
        "outputId": "8a3c0446-1672-40cc-fe51-c8278da28248"
      },
      "cell_type": "code",
      "source": [
        "+ct"
      ],
      "execution_count": 10,
      "outputs": [
        {
          "output_type": "execute_result",
          "data": {
            "text/plain": [
              "Counter({'a': 5, 'b': 2, 'c': 1})"
            ]
          },
          "metadata": {
            "tags": []
          },
          "execution_count": 10
        }
      ]
    },
    {
      "metadata": {
        "id": "7KeAc63ELdGa",
        "colab_type": "code",
        "colab": {
          "base_uri": "https://localhost:8080/",
          "height": 34
        },
        "outputId": "e0274409-e902-4672-86fc-55781e4268f6"
      },
      "cell_type": "code",
      "source": [
        "Counter('aaa') + Counter('bb')"
      ],
      "execution_count": 34,
      "outputs": [
        {
          "output_type": "execute_result",
          "data": {
            "text/plain": [
              "Counter({'a': 3, 'b': 2})"
            ]
          },
          "metadata": {
            "tags": []
          },
          "execution_count": 34
        }
      ]
    },
    {
      "metadata": {
        "id": "znduGS2qwB8v",
        "colab_type": "text"
      },
      "cell_type": "markdown",
      "source": [
        "#중위연산자\n",
        "class Vector 에서의  + 및 * 오버로딩"
      ]
    },
    {
      "metadata": {
        "id": "XZvfEglo_eKD",
        "colab_type": "code",
        "colab": {
          "base_uri": "https://localhost:8080/",
          "height": 34
        },
        "outputId": "56a23ec9-a8f1-4b2b-aeea-dde6ad354865"
      },
      "cell_type": "code",
      "source": [
        "v1 = Vector([3, 4, 5])\n",
        "v2 = Vector([6, 7, 8])\n",
        "v1 + v2"
      ],
      "execution_count": 5,
      "outputs": [
        {
          "output_type": "execute_result",
          "data": {
            "text/plain": [
              "Vector([9.0, 11.0, 13.0])"
            ]
          },
          "metadata": {
            "tags": []
          },
          "execution_count": 5
        }
      ]
    },
    {
      "metadata": {
        "id": "dcwLcdFwwLm8",
        "colab_type": "code",
        "colab": {
          "base_uri": "https://localhost:8080/",
          "height": 34
        },
        "outputId": "dbb32ccf-806a-4e1b-8241-21c2b2a3af2b"
      },
      "cell_type": "code",
      "source": [
        "# cf) 인터넷으로 찾은 벡터 합 (array)\n",
        "import numpy as np\n",
        "\n",
        "va1 = np.array([3, 4, 5])\n",
        "va2 = np.array([6, 7, 8])\n",
        "va1 + va2"
      ],
      "execution_count": 35,
      "outputs": [
        {
          "output_type": "execute_result",
          "data": {
            "text/plain": [
              "array([ 9, 11, 13])"
            ]
          },
          "metadata": {
            "tags": []
          },
          "execution_count": 35
        }
      ]
    },
    {
      "metadata": {
        "id": "yST0WvzkJC6t",
        "colab_type": "code",
        "colab": {
          "base_uri": "https://localhost:8080/",
          "height": 34
        },
        "outputId": "a19d93f1-2f2e-4d5a-8cc0-125acde0216b"
      },
      "cell_type": "code",
      "source": [
        "v1 = Vector([3, 4, 5, 6])\n",
        "v3 = Vector([1, 2])\n",
        "v1 + v3"
      ],
      "execution_count": 37,
      "outputs": [
        {
          "output_type": "execute_result",
          "data": {
            "text/plain": [
              "Vector([4.0, 6.0, 5.0, 6.0])"
            ]
          },
          "metadata": {
            "tags": []
          },
          "execution_count": 37
        }
      ]
    },
    {
      "metadata": {
        "id": "XO-jAI6BRC5t",
        "colab_type": "code",
        "colab": {
          "base_uri": "https://localhost:8080/",
          "height": 34
        },
        "outputId": "5edb959b-ecbb-41e6-d759-632b8f5369c8"
      },
      "cell_type": "code",
      "source": [
        "v1 = Vector([3, 4, 5])\n",
        "v1 + (10, 20, 30)"
      ],
      "execution_count": 38,
      "outputs": [
        {
          "output_type": "execute_result",
          "data": {
            "text/plain": [
              "Vector([13.0, 24.0, 35.0])"
            ]
          },
          "metadata": {
            "tags": []
          },
          "execution_count": 38
        }
      ]
    },
    {
      "metadata": {
        "id": "6Ot3s07lRNal",
        "colab_type": "code",
        "colab": {
          "base_uri": "https://localhost:8080/",
          "height": 34
        },
        "outputId": "5f43afea-31fd-49bd-a801-403bf2172c7e"
      },
      "cell_type": "code",
      "source": [
        "# Vector class에 역순 연산자 메서드가 없으면 오류 발생 (그림 13-1 참고. 요약: 먼저 정방향 메서드 실행하고, NotImplemented 가 반환되면 역순 메서드를 실행)\n",
        "v1 = Vector([3, 4, 5])\n",
        "(10, 20, 30) + v1 "
      ],
      "execution_count": 41,
      "outputs": [
        {
          "output_type": "execute_result",
          "data": {
            "text/plain": [
              "Vector([13.0, 24.0, 35.0])"
            ]
          },
          "metadata": {
            "tags": []
          },
          "execution_count": 41
        }
      ]
    },
    {
      "metadata": {
        "id": "p34VBBWNOlBp",
        "colab_type": "code",
        "colab": {
          "base_uri": "https://localhost:8080/",
          "height": 87
        },
        "outputId": "5a868588-d2df-4bf6-ec85-ffd3d815f050"
      },
      "cell_type": "code",
      "source": [
        "v1 = Vector([1, 2, 3])\n",
        "print (v1 * 10)\n",
        "print (11 * v1)\n",
        "print (v1 * True)\n",
        "print (v1 * False)"
      ],
      "execution_count": 43,
      "outputs": [
        {
          "output_type": "stream",
          "text": [
            "(10.0, 20.0, 30.0)\n",
            "(11.0, 22.0, 33.0)\n",
            "(1.0, 2.0, 3.0)\n",
            "(0.0, 0.0, 0.0)\n"
          ],
          "name": "stdout"
        }
      ]
    },
    {
      "metadata": {
        "id": "LvNpZTYhWFyA",
        "colab_type": "code",
        "colab": {
          "base_uri": "https://localhost:8080/",
          "height": 52
        },
        "outputId": "9569945a-069d-48f2-c6a8-b6ef104e1372"
      },
      "cell_type": "code",
      "source": [
        "from fractions import Fraction\n",
        "print (v1 * Fraction(1, 3))\n",
        "print (Fraction(1, 3))"
      ],
      "execution_count": 44,
      "outputs": [
        {
          "output_type": "stream",
          "text": [
            "(0.3333333333333333, 0.6666666666666666, 1.0)\n",
            "1/3\n"
          ],
          "name": "stdout"
        }
      ]
    },
    {
      "metadata": {
        "id": "tRgZWw6JW-YV",
        "colab_type": "text"
      },
      "cell_type": "markdown",
      "source": [
        "**중위 연산자 메서드 명**\n",
        "<table>\n",
        "    <tr>\n",
        "        <th>연산자</th>\n",
        "        <th>정방향</th>\n",
        "        <th>역순</th>\n",
        "        <th>인플레이스</th>\n",
        "        <th>설명</th>\n",
        "    </tr>\n",
        "    <tr>\n",
        "        <td>+</td>\n",
        "        <td>\\__add\\__()</td>\n",
        "        <td>\\__radd\\__()</td>\n",
        "        <td>\\__iadd\\__()</td>\n",
        "        <td>덧셈이나 연결</td>\n",
        "    </tr>\n",
        "    <tr>\n",
        "        <td>-</td>\n",
        "        <td>\\__sub\\__()</td>\n",
        "        <td>\\__rsub\\__()</td>\n",
        "        <td>\\__isub\\__()</td>\n",
        "        <td>뺄셈</td>\n",
        "    </tr>\n",
        "    <tr>\n",
        "        <td>\\*</td>\n",
        "        <td>\\__mul\\__()</td>\n",
        "        <td>\\__rmul\\__()</td>\n",
        "        <td>\\__imul\\__()</td>\n",
        "        <td>곱셈이나 반복</td>\n",
        "    </tr>\n",
        "    <tr>\n",
        "        <td>/</td>\n",
        "        <td>\\__truediv\\__()</td>\n",
        "        <td>\\__rtruediv\\__()</td>\n",
        "        <td>\\__itruediv\\__()</td>\n",
        "        <td>참 나눗셈</td>\n",
        "    </tr>\n",
        "    <tr>\n",
        "        <td>//</td>\n",
        "        <td>\\__floordiv\\__()</td>\n",
        "        <td>\\__rfloordiv\\__()</td>\n",
        "        <td>\\__ifloordiv\\__()</td>\n",
        "        <td>플로어 나눗셈</td>\n",
        "    </tr>\n",
        "    <tr>\n",
        "        <td>%</td>\n",
        "        <td>\\__mod\\__()</td>\n",
        "        <td>\\__rmod\\__()</td>\n",
        "        <td>\\__imod\\__()</td>\n",
        "        <td>모듈로(나머지) 연산</td>\n",
        "    </tr>\n",
        "    <tr>\n",
        "        <td>divmod()</td>\n",
        "        <td>\\__divmod\\__()</td>\n",
        "        <td>\\__rdivmod\\__()</td>\n",
        "        <td>\\__idivmod\\__()</td>\n",
        "        <td>플로어 나눗셈의 몫과 나머지를 튜플로 반환한다.</td>\n",
        "    </tr>\n",
        "    <tr>\n",
        "        <td>**, pow()</td>\n",
        "        <td>\\__pow\\__()</td>\n",
        "        <td>\\__rpow\\__()</td>\n",
        "        <td>\\__ipow\\__()</td>\n",
        "        <td>누승</td>\n",
        "    </tr>\n",
        "    <tr>\n",
        "        <td>@</td>\n",
        "        <td>\\__matmul\\__()</td>\n",
        "        <td>\\__rmatmul\\__()</td>\n",
        "        <td>\\__imatmul\\__()</td>\n",
        "        <td>행렬 곱셈 (파이썬 3.5)</td>\n",
        "    </tr>\n",
        "    <tr>\n",
        "        <td>&</td>\n",
        "        <td>\\__and\\__()</td>\n",
        "        <td>\\__rand\\__()</td>\n",
        "        <td>\\__iand\\__()</td>\n",
        "        <td>비트단위 곱 (bitwise and)</td>\n",
        "    </tr>\n",
        "    <tr>\n",
        "        <td>|</td>\n",
        "        <td>\\__or\\__()</td>\n",
        "        <td>\\__rorv\\__()</td>\n",
        "        <td>\\__ior\\__()</td>\n",
        "        <td>비트단위 합 (bitwise or)</td>\n",
        "    </tr>\n",
        "    <tr>\n",
        "        <td>^</td>\n",
        "        <td>\\__xor\\__()</td>\n",
        "        <td>\\__rxor\\__()</td>\n",
        "        <td>\\__ixor\\__()</td>\n",
        "        <td>비트단위 배타합 (bitwise xor)</td>\n",
        "    </tr>\n",
        "    <tr>\n",
        "        <td> << </td>\n",
        "        <td>\\__lshift\\__()</td>\n",
        "        <td>\\__rlshift\\__()</td>\n",
        "        <td>\\__ishift\\__()</td>\n",
        "        <td>비트단위 왼쪽 시프트</td>\n",
        "    </tr>\n",
        "    <tr>\n",
        "        <td> >> </td>\n",
        "        <td>\\__rshift\\__()</td>\n",
        "        <td>\\__rrshift\\__()</td>\n",
        "        <td>\\__irshift\\__()</td>\n",
        "        <td>비트단위 오른쪽 시프트</td>\n",
        "    </tr>\n",
        " </table>"
      ]
    },
    {
      "metadata": {
        "id": "KwzugflgayWy",
        "colab_type": "code",
        "colab": {
          "base_uri": "https://localhost:8080/",
          "height": 34
        },
        "outputId": "b9c54241-02e7-4012-8c07-6d1117ef3a8d"
      },
      "cell_type": "code",
      "source": [
        "# 행렬 곱셈 @ 중위 연산자 \n",
        "va = Vector([1, 2, 3])\n",
        "vz = Vector([5, 6, 7])\n",
        "va @ vz"
      ],
      "execution_count": 45,
      "outputs": [
        {
          "output_type": "execute_result",
          "data": {
            "text/plain": [
              "38.0"
            ]
          },
          "metadata": {
            "tags": []
          },
          "execution_count": 45
        }
      ]
    },
    {
      "metadata": {
        "id": "NWgbr-15cPeh",
        "colab_type": "text"
      },
      "cell_type": "markdown",
      "source": [
        "**비교 연산자**<br>\n",
        "앞에 설명한 것과 비슷 (정방향 메서드 실행 -> NotImplemented 반환되면 역순 메서드 실행..)\n",
        "<br>\n",
        "<table>\n",
        "    <tr>\n",
        "        <th>종류</th>\n",
        "        <th>중위연산자</th>\n",
        "        <th>정방향</th>\n",
        "        <th>역순</th>\n",
        "        <th>(역순 실패시) 기본 처리</th>\n",
        "    </tr>\n",
        "    <tr>\n",
        "        <td rowspan=2>동치성</td>\n",
        "        <td>a == b</td>\n",
        "        <td>a.\\__eq\\__(b)</td>\n",
        "        <td>b.\\__eq\\__(a)</td>\n",
        "        <td>id(a) == id(b) 를 반환한다.</td>\n",
        "    </tr>\n",
        "    <tr>\n",
        "        <td>a != b</td>\n",
        "        <td>a.\\__ne\\__(b)</td>\n",
        "        <td>b.\\__ne\\__(a)</td>\n",
        "        <td>not (a == b) 를 반환한다.</td>\n",
        "    </tr>\n",
        "    <tr>\n",
        "        <td rowspan=4>순서</td>\n",
        "        <td>a > b</td>\n",
        "        <td>a.\\__gt\\__(b)</td>\n",
        "        <td>b.\\__lt\\__(a)</td>\n",
        "        <td>TypeError를 발생시킨다.</td>\n",
        "    </tr>\n",
        "    <tr>\n",
        "        <td>a < b</td>\n",
        "        <td>a.\\__lt\\__(b)</td>\n",
        "        <td>b.\\__gt\\__(a)</td>\n",
        "        <td>TypeError를 발생시킨다.</td>\n",
        "    </tr>\n",
        "    <tr>\n",
        "        <td>a >= b</td>\n",
        "        <td>a.\\__ge\\__(b)</td>\n",
        "        <td>b.\\__le\\__(a)</td>\n",
        "        <td>TypeError를 발생시킨다.</td>\n",
        "    </tr>\n",
        "    <tr>\n",
        "        <td>a <= b</td>\n",
        "        <td>a.\\__le\\__(b)</td>\n",
        "        <td>b.\\__ge\\__(a)</td>\n",
        "        <td>TypeError를 발생시킨다.</td>\n",
        "    </tr>\n",
        "</table>"
      ]
    },
    {
      "metadata": {
        "id": "qx_NqK-zdBLk",
        "colab_type": "code",
        "colab": {
          "base_uri": "https://localhost:8080/",
          "height": 52
        },
        "outputId": "47c18aca-3397-4aa6-9d8b-747659230f45"
      },
      "cell_type": "code",
      "source": [
        "va = Vector([1.0, 2.0, 3.0])\n",
        "t3 = (1, 2, 3)\n",
        "print (va == t3)\n",
        "print (id(va), id(t3))\n",
        "\n",
        "# => 동일한 숫자 요소를 가진 두 Vector 객체를 동일하다고 판단하도록 구현 가능함. Vector 끼리의 비교인지 체크하려면 isinstance 체크로직 넣어줌됨. "
      ],
      "execution_count": 49,
      "outputs": [
        {
          "output_type": "stream",
          "text": [
            "True\n",
            "140047035945984 140047035676352\n"
          ],
          "name": "stdout"
        }
      ]
    },
    {
      "metadata": {
        "id": "wYNt3ol-XZxK",
        "colab_type": "code",
        "colab": {
          "base_uri": "https://localhost:8080/",
          "height": 34
        },
        "outputId": "e87c4a41-fef0-4bbd-d37a-fa8cceed41a7"
      },
      "cell_type": "code",
      "source": [
        "va = Vector([1.0, 2.0, 3.0])\n",
        "vb = Vector(range(1, 4))\n",
        "va == vb"
      ],
      "execution_count": 47,
      "outputs": [
        {
          "output_type": "execute_result",
          "data": {
            "text/plain": [
              "True"
            ]
          },
          "metadata": {
            "tags": []
          },
          "execution_count": 47
        }
      ]
    },
    {
      "metadata": {
        "id": "tArkkjkyh9aR",
        "colab_type": "text"
      },
      "cell_type": "markdown",
      "source": [
        "**복합 할당 연산자** <br>\n",
        "a += b 는 a = a + b 와 동일하게 \\__add\\__() 메서드를 호출. <br>\n",
        "하지만, \\__iadd\\__() 와 같은 인플레이스 연산자 메서드를 정의한 경우 iadd 가 호출됨.<br>\n",
        "그러나, 새로운 객체를 생성하지 않고 self 를 직접 변경하게 되므로 Vector 같은 불변 자료형에서는 구현하면 안 된다. "
      ]
    },
    {
      "metadata": {
        "id": "H6jmOyRPjQ4E",
        "colab_type": "code",
        "colab": {
          "base_uri": "https://localhost:8080/",
          "height": 34
        },
        "outputId": "ba9d79c5-4193-4c09-9bc6-0e82d9619c8b"
      },
      "cell_type": "code",
      "source": [
        "v1 = Vector([1, 2, 3])\n",
        "v1 += Vector([4, 5, 6])\n",
        "print (v1)\n",
        "\n",
        "# => 복합할당이 불변 타깃을 처리할 때는 객체를 새로 생성하고 다시 바인딩한다. "
      ],
      "execution_count": 50,
      "outputs": [
        {
          "output_type": "stream",
          "text": [
            "(5.0, 7.0, 9.0)\n"
          ],
          "name": "stdout"
        }
      ]
    },
    {
      "metadata": {
        "id": "p6xT2f3MmHv4",
        "colab_type": "code",
        "colab": {}
      },
      "cell_type": "code",
      "source": [
        "# BigoCage 를 통한 iadd 오버로딩해보기\n",
        "\n",
        "import abc\n",
        "import random\n",
        "\n",
        "\n",
        "class Tombola(abc.ABC):\n",
        "\n",
        "    @abc.abstractmethod\n",
        "    def load(self, iterable):\n",
        "        \"\"\"Add items from an iterable.\"\"\"\n",
        "\n",
        "    @abc.abstractmethod\n",
        "    def pick(self):\n",
        "        \"\"\"Remove item at random, returning it.\n",
        "\n",
        "        This method should raise `LookupError` when the instance is empty.\n",
        "        \"\"\"\n",
        "\n",
        "    def loaded(self):\n",
        "        \"\"\"Return `True` if there's at least 1 item, `False` otherwise.\"\"\"\n",
        "        return bool(self.inspect())\n",
        "\n",
        "\n",
        "    def inspect(self):\n",
        "        \"\"\"Return a sorted tuple with the items currently inside.\"\"\"\n",
        "        items = []\n",
        "        while True:\n",
        "            try:\n",
        "                items.append(self.pick())\n",
        "            except LookupError:\n",
        "                break\n",
        "        self.load(items)\n",
        "        return tuple(sorted(items))\n",
        "    \n",
        "\n",
        "class BingoCage(Tombola):\n",
        "\n",
        "    def __init__(self, items):\n",
        "        self._randomizer = random.SystemRandom()\n",
        "        self._items = []\n",
        "        self.load(items)\n",
        "\n",
        "    def load(self, items):\n",
        "        self._items.extend(items)\n",
        "        self._randomizer.shuffle(self._items)\n",
        "\n",
        "    def pick(self):\n",
        "        try:\n",
        "            return self._items.pop()\n",
        "        except IndexError:\n",
        "            raise LookupError('pick from empty BingoCage')\n",
        "\n",
        "    def __call__(self):\n",
        "        self.pick()\n",
        "        \n",
        "        \n",
        "    \n",
        "# 이번 장에서 추가한 코드 \n",
        "class AddableBingoCage(BingoCage):\n",
        "    \n",
        "    def __add__(self, other):\n",
        "        if isinstance(other, Tombola):\n",
        "            return AddableBingoCage(self.inspect() + other.inspect())\n",
        "        else:\n",
        "            return NotImplemented\n",
        "\n",
        "    def __iadd__(self, other):\n",
        "        if isinstance(other, Tombola):\n",
        "            other_iterable = other.inspect()\n",
        "        else:\n",
        "            try:\n",
        "                other_iterable = iter(other)\n",
        "            except TypeError:\n",
        "                self_cls = type(self).__name__\n",
        "                msg = \"right operand in += must be {!r} or an iterable\"\n",
        "                raise TypeError(msg.format(self_cls))\n",
        "        self.load(other_iterable) \n",
        "        return self\n"
      ],
      "execution_count": 0,
      "outputs": []
    },
    {
      "metadata": {
        "id": "o1vTIsPXpta4",
        "colab_type": "code",
        "colab": {
          "base_uri": "https://localhost:8080/",
          "height": 122
        },
        "outputId": "d466eeab-4157-48d8-993d-cc179bb2936c"
      },
      "cell_type": "code",
      "source": [
        "vowels = 'AEIOU'\n",
        "globe = AddableBingoCage(vowels)\n",
        "globe2 = AddableBingoCage('XYZ')\n",
        "globe_org = globe\n",
        "print (globe_org.inspect())\n",
        "# 복합할당\n",
        "globe += globe2\n",
        "print (globe.inspect())\n",
        "print (globe_org.inspect())\n",
        "# 중위연산메서드\n",
        "globe2 = AddableBingoCage('')\n",
        "globe3 = globe_org + globe2\n",
        "\n",
        "print (globe3.inspect())\n",
        "\n",
        "print (globe is globe_org)\n",
        "print (globe is globe3)\n",
        "\n",
        "# 복합할당 연산자는 새로운 객체를 만들지 않고 자신에게 결과값을 담는다. \n",
        "# +연산자는 결과값의 자료형에 대해 혼란스러울 수 있지만 += 연산자는 내용의 갱신이므로 연산 결과 자료형이 명확한 이점이 있다. "
      ],
      "execution_count": 53,
      "outputs": [
        {
          "output_type": "stream",
          "text": [
            "('A', 'E', 'I', 'O', 'U')\n",
            "('A', 'E', 'I', 'O', 'U', 'X', 'Y', 'Z')\n",
            "('A', 'E', 'I', 'O', 'U', 'X', 'Y', 'Z')\n",
            "('A', 'E', 'I', 'O', 'U', 'X', 'Y', 'Z')\n",
            "True\n",
            "False\n"
          ],
          "name": "stdout"
        }
      ]
    },
    {
      "metadata": {
        "id": "Qj3cwTStqaxN",
        "colab_type": "code",
        "colab": {
          "base_uri": "https://localhost:8080/",
          "height": 34
        },
        "outputId": "89a9605b-aa18-430b-dfa5-813bce8a4fbd"
      },
      "cell_type": "code",
      "source": [
        "a = ''\n",
        "if a:\n",
        "    print('11')\n",
        "else:\n",
        "    print('22')"
      ],
      "execution_count": 70,
      "outputs": [
        {
          "output_type": "stream",
          "text": [
            "22\n"
          ],
          "name": "stdout"
        }
      ]
    }
  ]
}